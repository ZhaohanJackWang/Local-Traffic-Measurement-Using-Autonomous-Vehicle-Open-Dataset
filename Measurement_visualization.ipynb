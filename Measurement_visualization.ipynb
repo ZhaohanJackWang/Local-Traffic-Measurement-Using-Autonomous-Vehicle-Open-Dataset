{
    "cells": [
        {
            "cell_type": "code",
            "execution_count": null,
            "metadata": {},
            "outputs": [],
            "source": [
                "import pandas as pd\n",
                "import math\n",
                "import numpy as np\n",
                "import seaborn as sns\n",
                "import matplotlib as mpl\n",
                "import matplotlib.pyplot as plt\n",
                "import matplotlib.patches as mpatches\n",
                "from mpl_toolkits.mplot3d import Axes3D\n",
                "\n",
                "plt.rcParams['figure.figsize'] = (20, 10)"
            ]
        },
        {
            "cell_type": "code",
            "execution_count": null,
            "metadata": {},
            "outputs": [],
            "source": [
                "if os.path.isfile(r\"C:\\Users\\admin\\Desktop\\Waymo\\waymo\\110frames_t_segment-13984577671034960830_4545_000_4565_000_with_camera_labels\\final_data138.xlsx\"):\n",
                "    filepath = r\"C:\\Users\\admin\\Desktop\\Waymo\\waymo\\110frames_t_segment-13984577671034960830_4545_000_4565_000_with_camera_labels\\final_data138.xlsx\"\n",
                "\n",
                "frame_final = pd.read_excel(filepath) #, engine='openpyxl')\n",
                "print(\"done\")"
            ]
        },
        {
            "cell_type": "code",
            "execution_count": null,
            "metadata": {},
            "outputs": [],
            "source": [
                "frame_final['Cars detected'] = frame_final['Cars detected'].map(lambda x: x.lstrip('[]').rstrip('[]'))"
            ]
        },
        {
            "cell_type": "code",
            "execution_count": null,
            "metadata": {},
            "outputs": [],
            "source": [
                "frame_final.astype(str);\n",
                "frame_final.head()"
            ]
        },
        {
            "cell_type": "code",
            "execution_count": null,
            "metadata": {},
            "outputs": [],
            "source": [
                "time_space = plt.scatter(x=frame_final['Time (s)'], y=frame_final['AV distance travelled (m)'], s=12, c=\"darkblue\")\n",
                "for j in range(len(frame_final.iloc[:,13])):\n",
                "    Cars_detected = frame_final.iloc[j,13].split(\", \")\n",
                "    cars_pos = [float(k) + frame_final.iloc[j,9] for k in Cars_detected]\n",
                "    ads = [frame_final.iloc[j,2]] * len(Cars_detected)\n",
                "    time_space = plt.scatter(x=ads, y= cars_pos, s=6, c=\"red\")\n",
                "plt.xlabel(\"Time (s)\",fontweight ='bold', size=14)\n",
                "plt.ylabel(\"Distance (m)\", fontweight ='bold',size=14)\n",
                "plt.title(\"Space Time Plot with speed and detection range\", fontweight ='bold',size=20 )\n",
                "\n",
                "for i in range(len(frame_final.iloc[:,0])):\n",
                "    left, bottom, width, height = (frame_final.iloc[i,2]-0.03, frame_final.iloc[i,9] - 83, 0.1, 166)\n",
                "    cmap = plt.get_cmap('RdYlGn')\n",
                "    adjusted_speed = int((frame_final.iloc[i,10])**2/23) #2/25\n",
                "    colors = cmap(adjusted_speed)\n",
                "    rect=mpatches.Rectangle((left,bottom),width,height, alpha=0.5, color=colors)\n",
                "    plt.gca().add_patch(rect)\n",
                "\n",
                "# plt.figtext(0.132, 0.83,\"Max detection range is 100 meters\", fontsize = 13);\n",
                "\n",
                "plt.plot(11,-110) \n",
                "\n",
                "frame_img = '0space_time_graph.png'\n",
                "plt.savefig(frame_img)"
            ]
        },
        {
            "cell_type": "code",
            "execution_count": null,
            "metadata": {},
            "outputs": [],
            "source": [
                "time_flows = plt.scatter(x=frame_final['Time (s)'], y=frame_final['Flow (veh/h)'], s=12, c=frame_final['Flow (veh/h)'], cmap='Wistia_r')\n",
                "plt.xlabel(\"Time (s)\",fontweight ='bold', size=14)\n",
                "plt.ylabel(\"Flow (veh/h)\", fontweight ='bold',size=14)\n",
                "plt.title(\"Flow Time Plot\", fontweight ='bold',size=20)\n",
                "\n",
                "cbar = plt.colorbar()\n",
                "\n",
                "plt.plot(10,0) \n",
                "\n",
                "frame_img = '0flow_time_graph.png'\n",
                "plt.savefig(frame_img)"
            ]
        },
        {
            "cell_type": "code",
            "execution_count": null,
            "metadata": {},
            "outputs": [],
            "source": [
                "time_flows = plt.scatter(x=frame_final['Time (s)'], y=frame_final['Density (veh/km)'], s=12, c=frame_final['Density (veh/km)'], cmap='Wistia_r')\n",
                "plt.xlabel(\"Time (s)\",fontweight ='bold', size=14)\n",
                "plt.ylabel(\"Density (veh/km)\", fontweight ='bold',size=14)\n",
                "plt.title(\"Density Time Plot\", fontweight ='bold',size=20)\n",
                "\n",
                "cbar = plt.colorbar()\n",
                "\n",
                "plt.plot(10,0) \n",
                "\n",
                "frame_img = '0density_time_graph.png'\n",
                "plt.savefig(frame_img)"
            ]
        },
        {
            "cell_type": "code",
            "execution_count": null,
            "metadata": {},
            "outputs": [],
            "source": [
                "time_flows = plt.scatter(x=frame_final['Time (s)'], y=frame_final['Space mean speed (km/hr)'], s=12, c=frame_final['Space mean speed (km/hr)'], cmap='Wistia_r')\n",
                "plt.xlabel(\"Time (s)\",fontweight ='bold', size=14)\n",
                "plt.ylabel(\"Space mean speed (km/hr)\", fontweight ='bold',size=14)\n",
                "plt.title(\"Speed Time Plot\", fontweight ='bold',size=20)\n",
                "\n",
                "cbar = plt.colorbar()\n",
                "\n",
                "plt.plot(10,0) \n",
                "\n",
                "frame_img = '0speed_time_graph.png'\n",
                "plt.savefig(frame_img)"
            ]
        },
        {
            "cell_type": "markdown",
            "metadata": {},
            "source": [
                "Top Views"
            ]
        },
        {
            "cell_type": "code",
            "execution_count": null,
            "metadata": {},
            "outputs": [],
            "source": [
                "if os.path.isfile(r\"C:\\Users\\admin\\Desktop\\Waymo\\waymo\\200frames_training_segment-12551320916264703416_1420_000_1440_000_with_camera_labels\\frame2.xlsx\"):\n",
                "    filepath = r\"C:\\Users\\admin\\Desktop\\Waymo\\waymo\\200frames_training_segment-12551320916264703416_1420_000_1440_000_with_camera_labels\\frame2.xlsx\"\n",
                "\n",
                "topview = pd.read_excel(filepath) #, engine='openpyxl')\n",
                "print(\"done\")"
            ]
        },
        {
            "cell_type": "code",
            "execution_count": null,
            "metadata": {},
            "outputs": [],
            "source": [
                "colours={'TYPE_VEHICLE':'red', 'TYPE_SIGN':'blue', 'TYPE_PEDESTRIAN':'purple', 'TYPE_CYCLIST':'orange', 'AV':'green'}\n",
                "\n",
                "fig, ax = plt.subplots()\n",
                "plt.scatter(topview['center_x'], topview['center_y'], s=90, c=topview['type'].map(colours))\n",
                "plt.scatter(0,0, s=100, c='g') \n",
                "\n",
                "plt.grid()\n",
                "plt.xlabel('x-direction', fontsize=18)\n",
                "plt.ylabel('y-direction', fontsize=16)\n",
                "\n",
                "ax.set_xlim((-80, 80))\n",
                "ax.set_ylim((-80, 80))\n",
                "\n",
                "plt.axhline(y=1.85, linewidth=2, c='k')\n",
                "plt.axhline(y=-1.85, linewidth=2, c='k')\n",
                "\n",
                "ax.set_aspect('equal', adjustable='box')\n",
                "\n",
                "frame_img = '1frame2_2D.png'\n",
                "plt.savefig(frame_img)"
            ]
        },
        {
            "cell_type": "code",
            "execution_count": null,
            "metadata": {},
            "outputs": [],
            "source": [
                "if os.path.isfile(r\"C:\\Users\\admin\\Desktop\\Waymo\\waymo\\170frames_t_segment-7885161619764516373_289_280_309_280_with_camera_labels\\frame198.xlsx\"):\n",
                "    filepath = r\"C:\\Users\\admin\\Desktop\\Waymo\\waymo\\170frames_t_segment-7885161619764516373_289_280_309_280_with_camera_labels\\frame198.xlsx\"\n",
                "\n",
                "topview = pd.read_excel(filepath) #, engine='openpyxl')\n",
                "print(\"done\")"
            ]
        },
        {
            "cell_type": "code",
            "execution_count": null,
            "metadata": {},
            "outputs": [],
            "source": [
                "from matplotlib.patches import Arc\n",
                "\n",
                "r= -220\n",
                "w= 2\n",
                "\n",
                "colours={'TYPE_VEHICLE':'red', 'TYPE_SIGN':'blue', 'TYPE_PEDESTRIAN':'purple', 'TYPE_CYCLIST':'orange', 'AV':'green'}\n",
                "\n",
                "fig, ax = plt.subplots()\n",
                "plt.scatter(topview['center_x'], topview['center_y'], s=90, c=topview['type'].map(colours))\n",
                "plt.scatter(0,0, s=100, c='g') \n",
                "\n",
                "plt.grid()\n",
                "plt.xlabel('x-direction', fontsize=18)\n",
                "plt.ylabel('y-direction', fontsize=16)\n",
                "\n",
                "ax.set_xlim((-80, 80))\n",
                "ax.set_ylim((-80, 80))\n",
                "\n",
                "arc_element1 = Arc((0, r+w), 2*r+4*w, 2*r+4*w, theta1=180, theta2=0, linewidth=2, zorder=0)\n",
                "arc_element2 = Arc((0, r+w), 2*r, 2*r, theta1=180, theta2=0, linewidth=2, zorder=0)\n",
                "plt.gca().add_patch(arc_element1)\n",
                "plt.gca().add_patch(arc_element2)\n",
                "\n",
                "ax.set_aspect('equal', adjustable='box')\n",
                "\n",
                "frame_img = '1frame198_2D.png'\n",
                "plt.savefig(frame_img)"
            ]
        }
    ],
    "metadata": {
        "interpreter": {
            "hash": "ef7f9a8012d9131766e31894c279374cc63c73121ed4db3b9e67a294a4bf0e74"
        },
        "kernelspec": {
            "display_name": "Python 3.8.8 64-bit ('base': conda)",
            "name": "python3"
        },
        "language_info": {
            "codemirror_mode": {
                "name": "ipython",
                "version": 3
            },
            "file_extension": ".py",
            "mimetype": "text/x-python",
            "name": "python",
            "nbconvert_exporter": "python",
            "pygments_lexer": "ipython3",
            "version": "3.8.8"
        },
        "orig_nbformat": 4
    },
    "nbformat": 4,
    "nbformat_minor": 2
}
